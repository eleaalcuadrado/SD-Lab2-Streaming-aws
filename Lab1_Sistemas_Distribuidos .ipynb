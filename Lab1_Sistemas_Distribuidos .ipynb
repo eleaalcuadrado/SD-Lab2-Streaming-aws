{
 "cells": [
  {
   "cell_type": "markdown",
   "metadata": {},
   "source": [
    "# Laboratorio Sistemas Distribuidos"
   ]
  },
  {
   "cell_type": "markdown",
   "metadata": {},
   "source": [
    "Integrantes:\n",
    "\n",
    "            Luis Aguilar\n",
    "\n",
    "            Juan De Pablo\n",
    "\n",
    "            Gabriel Venegas\n",
    "\n",
    "Profesores: \n",
    "\n",
    "            Daniel Wladimiro\n",
    "\n",
    "            Joaquin Villagra\n",
    "            \n",
    "### Tema\n",
    "Servicio streaming que sea capaz de leer un dato de otro emisor streaming, realizar una evalaución en algun motor de reglas o un cruce con base de datos en memoría y posterior emisión de dato a la red bajo patron publish-suscribe.\n",
    "\n",
    "requisito no funcional: Lenguaje de programación libre dentro del stack de spark.\n",
    "\n",
    "Proveedor cloud: Amazon Web Service\n",
    "\n",
    "\n"
   ]
  },
  {
   "cell_type": "markdown",
   "metadata": {},
   "source": [
    "### Datos para la creación del data stream"
   ]
  },
  {
   "cell_type": "code",
   "execution_count": 271,
   "metadata": {},
   "outputs": [],
   "source": [
    "stream_name = 'test'\n",
    "region = 'us-east-2'\n",
    "aws_profile = 'ejemplo'"
   ]
  },
  {
   "cell_type": "markdown",
   "metadata": {},
   "source": [
    "## Definición de funciones para crear el stream"
   ]
  },
  {
   "cell_type": "code",
   "execution_count": 272,
   "metadata": {},
   "outputs": [],
   "source": [
    "import boto\n",
    "from boto.kinesis.exceptions import ResourceInUseException\n",
    "import os\n",
    "import time\n",
    "\n",
    "if aws_profile:\n",
    "    os.environ['AWS_PROFILE'] = aws_profile\n",
    "\n",
    "# conexión a kinesis\n",
    "kinesis = boto.kinesis.connect_to_region(region)\n",
    "\n",
    "def get_status():\n",
    "    r = kinesis.describe_stream(stream_name)\n",
    "    description = r.get('StreamDescription')\n",
    "    status = description.get('StreamStatus')\n",
    "    return status\n",
    "\n",
    "def create_stream(stream_name):\n",
    "    try:\n",
    "        # creación del stream\n",
    "        kinesis.create_stream(stream_name, 1)\n",
    "        print('stream {} created in region {}'.format(stream_name, region))\n",
    "    except ResourceInUseException:\n",
    "        print('stream {} already exists in region {}'.format(stream_name, region))\n",
    "\n",
    "\n",
    "    while get_status() != 'ACTIVE':\n",
    "        time.sleep(1)\n",
    "    print('stream {} is active'.format(stream_name))"
   ]
  },
  {
   "cell_type": "markdown",
   "metadata": {},
   "source": [
    "## Creación del stream"
   ]
  },
  {
   "cell_type": "code",
   "execution_count": 273,
   "metadata": {},
   "outputs": [
    {
     "name": "stdout",
     "output_type": "stream",
     "text": [
      "stream test created in region us-east-2\n",
      "stream test is active\n"
     ]
    }
   ],
   "source": [
    "create_stream(stream_name)"
   ]
  },
  {
   "cell_type": "markdown",
   "metadata": {},
   "source": [
    "## Definición funciones creación del data stream"
   ]
  },
  {
   "cell_type": "code",
   "execution_count": 279,
   "metadata": {},
   "outputs": [],
   "source": [
    "import datetime\n",
    "import time\n",
    "import threading\n",
    "import random\n",
    "from boto.kinesis.exceptions import ResourceNotFoundException\n",
    "\n",
    "class KinesisProducer(threading.Thread):\n",
    "      \n",
    "    def __init__(self, stream_name, sleep_interval=None, prod ='producer1'):\n",
    "        self.stream_name = stream_name\n",
    "        self.sleep_interval = sleep_interval\n",
    "        self.prod = prod\n",
    "        super().__init__()\n",
    "        \n",
    "    def put_record(self):\n",
    "       \n",
    "        nombre = [\"Maria\", \"Juan\", \"Pedro\", \"Luis\", \"Gabriel\", \"Alejandro\", \"Susana\", \"Amanda\"]\n",
    "        apellidos = [\"Gonzalez\", \"Saez\", \"Banda\", \"Fucceneco\", \"Aguilar\", \"Paredes\", \"Morales\"]\n",
    "        timestamp = datetime.datetime.utcnow()\n",
    "        part_key = str(random.randint(1, 20000000))\n",
    "        time = timestamp.isoformat()\n",
    "        birthday = str(random.randint(1, 31)) + \"/\" + str(random.randint(3, 12)) + \"/\" + str(random.randint(1950, 2018))\n",
    "        data = nombre[random.randint(0, 7)] + \" \" + apellidos[random.randint(0, 6)] + \" \" + apellidos[random.randint(0, 6)] +\" , nacimiento:\" + birthday + \" , \" + time\n",
    "        kinesis.put_record(self.stream_name, data, part_key)\n",
    "    \n",
    "    def run_continously(self):\n",
    "       \n",
    "        while True:\n",
    "            self.put_record()\n",
    "            time.sleep(self.sleep_interval)\n",
    "                \n",
    "    def run(self):\n",
    "        \"\"\"run the producer\"\"\"\n",
    "        try:\n",
    "            if self.sleep_interval:\n",
    "                self.run_continously()\n",
    "            else:\n",
    "                self.put_record()\n",
    "        except ResourceNotFoundException:\n",
    "            print('stream {} not found. Exiting'.format(self.stream_name))"
   ]
  },
  {
   "cell_type": "markdown",
   "metadata": {},
   "source": [
    "## Productor de data stream"
   ]
  },
  {
   "cell_type": "code",
   "execution_count": 280,
   "metadata": {},
   "outputs": [],
   "source": [
    "producer = KinesisProducer(stream_name, sleep_interval=45, prod='producer')\n",
    "\n",
    "producer.start()\n"
   ]
  },
  {
   "cell_type": "markdown",
   "metadata": {},
   "source": [
    "## Definición funciones del consumidor para visualizar data stream"
   ]
  },
  {
   "cell_type": "code",
   "execution_count": 283,
   "metadata": {},
   "outputs": [],
   "source": [
    "from boto.kinesis.exceptions import ProvisionedThroughputExceededException\n",
    "import datetime\n",
    "\n",
    "class KinesisConsumer:\n",
    "  \n",
    "    def __init__(self, stream_name, shard_id, iterator_type,\n",
    "                 worker_time=30, sleep_interval=0.5):\n",
    "   \n",
    "        self.stream_name = stream_name\n",
    "        self.shard_id = str(shard_id)\n",
    "        self.iterator_type = iterator_type\n",
    "        self.worker_time = worker_time\n",
    "        self.sleep_interval = sleep_interval\n",
    "        \n",
    "    def process_records(self, records):\n",
    "  \n",
    "        raise NotImplementedError\n",
    "    \n",
    "    @staticmethod\n",
    "    def iter_records(records):\n",
    "        for record in records:\n",
    "            part_key = record['PartitionKey']\n",
    "            data = record['Data']\n",
    "            yield part_key, data\n",
    "    \n",
    "    def run(self):\n",
    "  \n",
    "        response = kinesis.get_shard_iterator(self.stream_name,\n",
    "            self.shard_id, self.iterator_type)\n",
    "        \n",
    "        next_iterator = response['ShardIterator']\n",
    "\n",
    "        start = datetime.datetime.now()\n",
    "        finish = start + datetime.timedelta(seconds=self.worker_time)\n",
    "        \n",
    "        while finish > datetime.datetime.now():\n",
    "            try:\n",
    "                response = kinesis.get_records(next_iterator, limit=25)\n",
    "        \n",
    "                records = response['Records']\n",
    "                if records:\n",
    "                    self.process_records(records)\n",
    "            \n",
    "                next_iterator = response['NextShardIterator']\n",
    "                time.sleep(self.sleep_interval)\n",
    "            except ProvisionedThroughputExceededException as ptee:\n",
    "                time.sleep(1)"
   ]
  },
  {
   "cell_type": "code",
   "execution_count": 284,
   "metadata": {},
   "outputs": [],
   "source": [
    "class EchoConsumer(KinesisConsumer):\n",
    "    \n",
    "    def process_records(self, records):\n",
    "        \n",
    "        for part_key, data in self.iter_records(records):\n",
    "            print(\"rut: \", part_key, \" , \", data) "
   ]
  },
  {
   "cell_type": "code",
   "execution_count": 285,
   "metadata": {},
   "outputs": [],
   "source": [
    "shard_id = 'shardId-000000000000'\n",
    "iterator_type =  'TRIM_HORIZON'\n",
    "worker = EchoConsumer(stream_name, shard_id, iterator_type, worker_time=30)"
   ]
  },
  {
   "cell_type": "code",
   "execution_count": 286,
   "metadata": {},
   "outputs": [
    {
     "name": "stdout",
     "output_type": "stream",
     "text": [
      "rut:  7591718  ,  Amanda Aguilar Aguilar , nacimiento:16/5/1953 , 2019-05-21T22:34:49.158813\n",
      "rut:  5052552  ,  Luis Paredes Aguilar , nacimiento:30/3/1981 , 2019-05-21T22:34:49.161638\n",
      "rut:  15179585  ,  Pedro Morales Fucceneco , nacimiento:10/11/2008 , 2019-05-21T22:35:35.320319\n",
      "rut:  24625  ,  Juan Morales Gonzalez , nacimiento:14/11/1971 , 2019-05-21T22:35:50.336729\n",
      "rut:  18687227  ,  Pedro Morales Paredes , nacimiento:4/6/1968 , 2019-05-21T22:36:21.972356\n",
      "rut:  8733185  ,  Gabriel Gonzalez Paredes , nacimiento:9/6/2015 , 2019-05-21T22:36:52.260326\n",
      "rut:  7279753  ,  Juan Fucceneco Saez , nacimiento:12/12/1988 , 2019-05-21T22:37:08.620322\n",
      "rut:  10159936  ,  Maria Saez Aguilar , nacimiento:25/8/1986 , 2019-05-21T22:37:53.396324\n",
      "rut:  5454636  ,  Maria Saez Aguilar , nacimiento:29/9/1992 , 2019-05-21T22:37:55.264338\n",
      "rut:  11638657  ,  Pedro Saez Banda , nacimiento:4/6/1958 , 2019-05-21T22:38:41.412328\n",
      "rut:  7579572  ,  Amanda Paredes Paredes , nacimiento:27/12/1968 , 2019-05-21T22:38:55.612330\n",
      "rut:  10709690  ,  Luis Banda Saez , nacimiento:30/9/2004 , 2019-05-21T22:39:28.408267\n",
      "rut:  19284819  ,  Juan Saez Fucceneco , nacimiento:18/6/1970 , 2019-05-21T22:39:56.948335\n",
      "rut:  3921182  ,  Luis Morales Saez , nacimiento:21/6/1995 , 2019-05-21T22:40:14.944274\n",
      "rut:  5769468  ,  Susana Banda Fucceneco , nacimiento:12/10/1960 , 2019-05-21T22:40:58.116307\n",
      "rut:  11561743  ,  Gabriel Gonzalez Aguilar , nacimiento:18/11/1974 , 2019-05-21T22:41:01.632286\n",
      "rut:  8632359  ,  Pedro Aguilar Saez , nacimiento:31/9/1985 , 2019-05-21T22:41:47.129048\n",
      "rut:  8982054  ,  Maria Gonzalez Saez , nacimiento:3/8/2016 , 2019-05-21T22:41:59.651031\n",
      "rut:  628679  ,  Susana Paredes Fucceneco , nacimiento:20/6/2004 , 2019-05-21T22:42:34.128301\n",
      "rut:  14342470  ,  Gabriel Banda Paredes , nacimiento:24/5/1984 , 2019-05-21T22:43:00.820289\n",
      "rut:  1259730  ,  Alejandro Morales Banda , nacimiento:5/11/1968 , 2019-05-21T22:43:20.352306\n",
      "rut:  16170212  ,  Alejandro Morales Banda , nacimiento:14/7/1968 , 2019-05-21T22:44:02.256289\n",
      "rut:  1837394  ,  Maria Aguilar Morales , nacimiento:9/9/1951 , 2019-05-21T22:44:06.926648\n",
      "rut:  9656708  ,  Pedro Paredes Banda , nacimiento:20/4/1972 , 2019-05-21T22:44:52.432332\n",
      "rut:  2018232  ,  Alejandro Saez Aguilar , nacimiento:19/10/1981 , 2019-05-21T22:45:04.224342\n",
      "rut:  17839740  ,  Gabriel Paredes Aguilar , nacimiento:7/4/1999 , 2019-05-21T22:45:39.108340\n",
      "rut:  12216195  ,  Amanda Paredes Morales , nacimiento:15/7/2011 , 2019-05-21T22:46:06.100337\n",
      "rut:  3134263  ,  Juan Gonzalez Aguilar , nacimiento:6/9/1979 , 2019-05-21T22:46:25.748339\n",
      "rut:  18280449  ,  Susana Paredes Morales , nacimiento:30/4/2006 , 2019-05-21T22:47:07.292061\n",
      "rut:  6975  ,  Luis Banda Gonzalez , nacimiento:18/4/1953 , 2019-05-21T22:47:11.974708\n",
      "rut:  14478779  ,  Luis Gonzalez Gonzalez , nacimiento:22/11/1967 , 2019-05-21T22:47:57.416253\n",
      "rut:  12467199  ,  Amanda Saez Morales , nacimiento:9/8/2011 , 2019-05-21T22:48:09.140249\n",
      "rut:  19540206  ,  Luis Paredes Paredes , nacimiento:1/6/1997 , 2019-05-21T22:48:43.908258\n",
      "rut:  18241014  ,  Susana Paredes Gonzalez , nacimiento:11/12/1977 , 2019-05-21T22:49:10.892362\n",
      "rut:  3772535  ,  Juan Banda Paredes , nacimiento:13/9/2005 , 2019-05-21T22:49:30.648281\n",
      "rut:  6169780  ,  Susana Morales Saez , nacimiento:7/3/1971 , 2019-05-21T22:50:12.426106\n",
      "rut:  17045590  ,  Gabriel Gonzalez Banda , nacimiento:2/12/1997 , 2019-05-21T22:50:17.413069\n",
      "rut:  14099027  ,  Juan Banda Saez , nacimiento:12/5/1990 , 2019-05-21T22:51:02.900449\n",
      "rut:  9949254  ,  Gabriel Banda Gonzalez , nacimiento:14/4/2010 , 2019-05-21T22:51:13.768270\n",
      "rut:  16629794  ,  Alejandro Saez Aguilar , nacimiento:4/7/1967 , 2019-05-21T22:51:48.929371\n",
      "rut:  17390504  ,  Juan Paredes Fucceneco , nacimiento:3/9/2010 , 2019-05-21T22:52:15.656276\n",
      "rut:  13188189  ,  Gabriel Gonzalez Saez , nacimiento:16/10/1992 , 2019-05-21T22:52:35.716287\n",
      "rut:  13698833  ,  Gabriel Gonzalez Aguilar , nacimiento:5/9/1964 , 2019-05-21T22:53:17.796261\n",
      "rut:  1826066  ,  Pedro Fucceneco Morales , nacimiento:17/6/1953 , 2019-05-21T22:53:21.940266\n",
      "rut:  19906584  ,  Alejandro Fucceneco Gonzalez , nacimiento:21/3/2001 , 2019-05-21T22:54:07.368263\n",
      "rut:  5164371  ,  Luis Gonzalez Morales , nacimiento:6/12/2001 , 2019-05-21T22:54:19.723729\n",
      "rut:  5172835  ,  Luis Paredes Paredes , nacimiento:18/8/1976 , 2019-05-21T22:54:53.614494\n",
      "rut:  102484  ,  Maria Fucceneco Paredes , nacimiento:12/5/1961 , 2019-05-21T22:55:21.492336\n",
      "rut:  5755371  ,  Alejandro Morales Banda , nacimiento:21/3/1991 , 2019-05-21T22:55:40.256249\n",
      "rut:  12736208  ,  Alejandro Gonzalez Fucceneco , nacimiento:29/3/1951 , 2019-05-21T22:56:23.516255\n",
      "rut:  7494725  ,  Gabriel Gonzalez Fucceneco , nacimiento:4/6/1977 , 2019-05-21T22:56:26.516716\n",
      "rut:  6917349  ,  Luis Gonzalez Aguilar , nacimiento:28/4/1990 , 2019-05-21T22:57:12.016257\n",
      "rut:  11413763  ,  Pedro Banda Fucceneco , nacimiento:1/11/1959 , 2019-05-21T22:57:25.088266\n",
      "rut:  13601068  ,  Amanda Saez Banda , nacimiento:23/7/2015 , 2019-05-21T22:57:58.824944\n",
      "rut:  9321417  ,  Luis Paredes Morales , nacimiento:27/4/2011 , 2019-05-21T22:58:26.560274\n",
      "rut:  11295330  ,  Pedro Aguilar Morales , nacimiento:29/12/1960 , 2019-05-21T22:58:45.145313\n",
      "rut:  6182568  ,  Maria Morales Aguilar , nacimiento:27/4/1983 , 2019-05-21T22:59:28.456260\n",
      "rut:  1586676  ,  Alejandro Gonzalez Gonzalez , nacimiento:5/9/1989 , 2019-05-21T22:59:31.832248\n",
      "rut:  4339969  ,  Susana Banda Gonzalez , nacimiento:17/9/1963 , 2019-05-21T23:00:17.412971\n",
      "rut:  1561651  ,  Pedro Paredes Banda , nacimiento:30/7/1984 , 2019-05-21T23:00:30.148778\n",
      "rut:  322838  ,  Alejandro Paredes Saez , nacimiento:27/3/1950 , 2019-05-21T23:01:03.951560\n",
      "rut:  17306914  ,  Gabriel Saez Aguilar , nacimiento:15/3/2018 , 2019-05-21T23:01:31.964203\n",
      "rut:  6908705  ,  Luis Paredes Saez , nacimiento:15/9/1996 , 2019-05-21T23:01:50.272256\n",
      "rut:  10320333  ,  Juan Paredes Gonzalez , nacimiento:15/10/1965 , 2019-05-21T23:02:33.620324\n",
      "rut:  15846059  ,  Susana Banda Banda , nacimiento:4/11/1971 , 2019-05-21T23:02:37.038291\n",
      "rut:  6874748  ,  Susana Fucceneco Saez , nacimiento:2/11/1963 , 2019-05-21T23:03:22.497601\n",
      "rut:  14862697  ,  Juan Saez Gonzalez , nacimiento:16/12/1996 , 2019-05-21T23:03:35.156281\n",
      "rut:  13758855  ,  Alejandro Saez Morales , nacimiento:23/8/1995 , 2019-05-21T23:04:09.128325\n",
      "rut:  3327596  ,  Alejandro Gonzalez Morales , nacimiento:18/9/1974 , 2019-05-21T23:04:37.123489\n",
      "rut:  1323887  ,  Luis Saez Morales , nacimiento:20/8/1958 , 2019-05-21T23:04:56.074512\n",
      "rut:  6668112  ,  Alejandro Morales Aguilar , nacimiento:25/9/1993 , 2019-05-21T23:05:39.099293\n",
      "rut:  2889290  ,  Luis Paredes Paredes , nacimiento:19/5/1970 , 2019-05-21T23:05:42.097440\n",
      "rut:  4703999  ,  Gabriel Saez Fucceneco , nacimiento:21/6/2008 , 2019-05-21T23:06:27.513247\n",
      "rut:  16255138  ,  Luis Fucceneco Paredes , nacimiento:8/6/2012 , 2019-05-21T23:06:40.199039\n",
      "rut:  8040113  ,  Gabriel Morales Morales , nacimiento:4/10/1968 , 2019-05-21T23:07:13.816285\n",
      "rut:  19948775  ,  Pedro Saez Banda , nacimiento:31/11/1983 , 2019-05-21T23:07:41.413813\n",
      "rut:  14825443  ,  Luis Banda Paredes , nacimiento:17/6/1962 , 2019-05-21T23:08:00.626575\n",
      "rut:  1711777  ,  Pedro Gonzalez Aguilar , nacimiento:12/11/2011 , 2019-05-21T23:08:43.560254\n",
      "rut:  1115728  ,  Pedro Fucceneco Paredes , nacimiento:19/6/1950 , 2019-05-21T23:08:47.280273\n",
      "rut:  16767210  ,  Amanda Aguilar Gonzalez , nacimiento:11/7/2003 , 2019-05-21T23:09:32.806571\n",
      "rut:  11276294  ,  Alejandro Paredes Paredes , nacimiento:16/9/2002 , 2019-05-21T23:09:45.076583\n",
      "rut:  19862937  ,  Pedro Gonzalez Aguilar , nacimiento:16/6/1973 , 2019-05-21T23:10:19.520346\n",
      "rut:  7563983  ,  Susana Paredes Gonzalez , nacimiento:3/12/2006 , 2019-05-21T23:10:47.224285\n",
      "rut:  17110670  ,  Luis Fucceneco Aguilar , nacimiento:15/12/1997 , 2019-05-21T23:11:05.588262\n",
      "rut:  14761073  ,  Alejandro Banda Morales , nacimiento:24/7/1968 , 2019-05-21T23:11:49.264333\n",
      "rut:  3654387  ,  Pedro Saez Paredes , nacimiento:31/4/1967 , 2019-05-21T23:11:52.396317\n",
      "rut:  4589087  ,  Amanda Paredes Aguilar , nacimiento:25/4/1950 , 2019-05-21T23:12:37.848278\n",
      "rut:  1769250  ,  Susana Gonzalez Gonzalez , nacimiento:9/5/1968 , 2019-05-21T23:12:50.976621\n",
      "rut:  3815496  ,  Alejandro Saez Paredes , nacimiento:21/12/1961 , 2019-05-21T23:13:24.358401\n",
      "rut:  6541393  ,  Maria Saez Gonzalez , nacimiento:11/11/1979 , 2019-05-21T23:13:52.328360\n",
      "rut:  6272341  ,  Pedro Fucceneco Paredes , nacimiento:24/12/1965 , 2019-05-21T23:14:11.224251\n",
      "rut:  11266992  ,  Maria Paredes Paredes , nacimiento:30/11/1973 , 2019-05-21T23:14:54.264264\n",
      "rut:  12089067  ,  Luis Aguilar Saez , nacimiento:15/6/2008 , 2019-05-21T23:14:57.868275\n",
      "rut:  8292008  ,  Alejandro Morales Fucceneco , nacimiento:25/5/2011 , 2019-05-21T23:15:43.270100\n",
      "rut:  9360436  ,  Gabriel Paredes Banda , nacimiento:8/7/1996 , 2019-05-21T23:15:55.800263\n",
      "rut:  12803542  ,  Susana Saez Gonzalez , nacimiento:25/6/1958 , 2019-05-21T23:16:30.104255\n",
      "rut:  8306797  ,  Gabriel Fucceneco Gonzalez , nacimiento:11/10/1966 , 2019-05-21T23:16:57.896270\n",
      "rut:  3781018  ,  Amanda Paredes Morales , nacimiento:11/5/2000 , 2019-05-21T23:17:16.903126\n",
      "rut:  18283032  ,  Juan Paredes Fucceneco , nacimiento:17/10/2012 , 2019-05-21T23:17:59.934294\n",
      "rut:  274708  ,  Amanda Morales Aguilar , nacimiento:14/4/1979 , 2019-05-21T23:18:03.805456\n"
     ]
    },
    {
     "name": "stdout",
     "output_type": "stream",
     "text": [
      "rut:  1386080  ,  Susana Morales Morales , nacimiento:17/11/1978 , 2019-05-21T23:18:49.300285\n",
      "rut:  16428698  ,  Gabriel Morales Gonzalez , nacimiento:18/5/1988 , 2019-05-21T23:19:01.552250\n",
      "rut:  10809934  ,  Maria Fucceneco Paredes , nacimiento:18/4/1952 , 2019-05-21T23:19:35.775730\n",
      "rut:  3763892  ,  Juan Aguilar Aguilar , nacimiento:29/11/2013 , 2019-05-21T23:20:03.263800\n",
      "rut:  11024140  ,  Juan Saez Aguilar , nacimiento:2/8/2016 , 2019-05-21T23:20:21.764525\n",
      "rut:  17236373  ,  Amanda Aguilar Saez , nacimiento:1/6/2009 , 2019-05-21T23:21:05.260317\n",
      "rut:  12800617  ,  Pedro Fucceneco Paredes , nacimiento:20/12/2014 , 2019-05-21T23:21:08.820251\n",
      "rut:  9236472  ,  Susana Saez Morales , nacimiento:26/4/1988 , 2019-05-21T23:21:54.388267\n",
      "rut:  3016964  ,  Maria Paredes Morales , nacimiento:4/6/2016 , 2019-05-21T23:22:07.464258\n",
      "rut:  13251709  ,  Pedro Aguilar Paredes , nacimiento:18/9/1952 , 2019-05-21T23:22:40.926861\n",
      "rut:  7211043  ,  Alejandro Saez Morales , nacimiento:27/3/2003 , 2019-05-21T23:23:09.183305\n",
      "rut:  911821  ,  Pedro Aguilar Aguilar , nacimiento:16/5/1975 , 2019-05-21T23:23:27.200481\n",
      "rut:  19491118  ,  Pedro Aguilar Aguilar , nacimiento:25/10/1974 , 2019-05-21T23:24:10.864273\n",
      "rut:  11476507  ,  Luis Morales Banda , nacimiento:3/8/1978 , 2019-05-21T23:24:13.660264\n",
      "rut:  11957790  ,  Amanda Saez Paredes , nacimiento:22/4/1971 , 2019-05-21T23:24:59.296255\n",
      "rut:  12625353  ,  Luis Saez Banda , nacimiento:18/4/1958 , 2019-05-21T23:25:13.048332\n",
      "rut:  5078497  ,  Luis Morales Saez , nacimiento:25/6/1959 , 2019-05-21T23:25:45.534190\n",
      "rut:  14312254  ,  Amanda Gonzalez Saez , nacimiento:28/10/1978 , 2019-05-21T23:26:15.108254\n",
      "rut:  16534870  ,  Pedro Saez Saez , nacimiento:2/4/1990 , 2019-05-21T23:26:31.836348\n",
      "rut:  19774206  ,  Luis Aguilar Aguilar , nacimiento:30/3/1965 , 2019-05-21T23:27:17.129213\n",
      "rut:  599903  ,  Maria Banda Morales , nacimiento:5/10/1971 , 2019-05-21T23:27:18.715431\n",
      "rut:  19391981  ,  Juan Saez Gonzalez , nacimiento:23/11/1991 , 2019-05-21T23:28:04.872625\n",
      "rut:  10402448  ,  Susana Gonzalez Paredes , nacimiento:12/3/1991 , 2019-05-21T23:28:18.956250\n",
      "rut:  11294609  ,  Maria Fucceneco Gonzalez , nacimiento:27/11/2017 , 2019-05-21T23:28:51.238955\n",
      "rut:  2714342  ,  Juan Saez Banda , nacimiento:22/12/2005 , 2019-05-21T23:29:20.917066\n",
      "rut:  9331083  ,  Amanda Gonzalez Paredes , nacimiento:30/7/1958 , 2019-05-21T23:29:38.184262\n",
      "rut:  15482777  ,  Juan Aguilar Banda , nacimiento:5/3/1950 , 2019-05-21T23:30:05.773495\n",
      "rut:  11771345  ,  Alejandro Banda Saez , nacimiento:31/11/1982 , 2019-05-21T23:30:05.772164\n",
      "rut:  9985367  ,  Pedro Gonzalez Gonzalez , nacimiento:23/12/1957 , 2019-05-21T23:30:22.220331\n",
      "rut:  3082428  ,  Pedro Fucceneco Morales , nacimiento:29/7/1981 , 2019-05-21T23:30:24.616335\n",
      "rut:  7622570  ,  Susana Saez Fucceneco , nacimiento:14/12/1982 , 2019-05-21T23:30:52.568357\n",
      "rut:  19238083  ,  Pedro Morales Aguilar , nacimiento:22/12/1970 , 2019-05-21T23:31:06.906651\n",
      "rut:  19124292  ,  Luis Fucceneco Gonzalez , nacimiento:22/5/1969 , 2019-05-21T23:31:10.968077\n",
      "rut:  14710091  ,  Gabriel Morales Banda , nacimiento:31/6/1969 , 2019-05-21T23:31:23.492338\n"
     ]
    }
   ],
   "source": [
    "worker.run()"
   ]
  },
  {
   "cell_type": "markdown",
   "metadata": {},
   "source": [
    "## Redefinición de función de procesamiento de data para busqueda por rut"
   ]
  },
  {
   "cell_type": "code",
   "execution_count": 287,
   "metadata": {},
   "outputs": [],
   "source": [
    "from collections import defaultdict, Counter\n",
    "from dateutil import parser\n",
    "from operator import itemgetter\n",
    "\n",
    "class SearchConsumer(KinesisConsumer):\n",
    "  \n",
    "    \n",
    "    def __init__(self, stream_name, shard_id, iterator_type, worker_time, search = '111111'):\n",
    "        self.time_buckets = defaultdict(Counter)\n",
    "        sleep_interval = 20 # seconds\n",
    "        self.search = search\n",
    "        super().__init__(stream_name, shard_id, iterator_type, worker_time, sleep_interval)\n",
    "        \n",
    "    def process_records(self, records):\n",
    "        print(\"Buscando el rut: \", self.search,\"...\" )\n",
    "        \n",
    "        for rut, timestamp_str in self.iter_records(records):\n",
    "            data = timestamp_str\n",
    "            if(rut == self.search):\n",
    "                print(\"rut encontrado!!!!\")\n",
    "                print(\"rut:\",rut,\",\", data)\n",
    "                now2 = datetime.datetime.utcnow()\n",
    "                print(\"hora termino: \",now2)\n",
    "                return\n",
    "                    "
   ]
  },
  {
   "cell_type": "code",
   "execution_count": 288,
   "metadata": {},
   "outputs": [
    {
     "name": "stdout",
     "output_type": "stream",
     "text": [
      "hora inicio:  2019-05-21 23:31:36.838241\n",
      "Buscando el rut:  11957790 ...\n",
      "Buscando el rut:  11957790 ...\n",
      "Buscando el rut:  11957790 ...\n",
      "Buscando el rut:  11957790 ...\n",
      "Buscando el rut:  11957790 ...\n",
      "rut encontrado!!!!\n",
      "rut: 11957790 , Amanda Saez Paredes , nacimiento:22/4/1971 , 2019-05-21T23:24:59.296255\n",
      "hora termino:  2019-05-21 23:33:03.859030\n",
      "Buscando el rut:  11957790 ...\n"
     ]
    }
   ],
   "source": [
    "worker2 = SearchConsumer(stream_name, shard_id, iterator_type, worker_time=120, search='11957790')\n",
    "now = datetime.datetime.utcnow()\n",
    "print(\"hora inicio: \",now)\n",
    "worker2.run()\n"
   ]
  },
  {
   "cell_type": "code",
   "execution_count": null,
   "metadata": {},
   "outputs": [],
   "source": [
    "kinesis.delete_stream(stream_name)"
   ]
  }
 ],
 "metadata": {
  "kernelspec": {
   "display_name": "Python 3",
   "language": "python",
   "name": "python3"
  },
  "language_info": {
   "codemirror_mode": {
    "name": "ipython",
    "version": 3
   },
   "file_extension": ".py",
   "mimetype": "text/x-python",
   "name": "python",
   "nbconvert_exporter": "python",
   "pygments_lexer": "ipython3",
   "version": "3.7.3"
  }
 },
 "nbformat": 4,
 "nbformat_minor": 2
}
